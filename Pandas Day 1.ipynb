{
 "cells": [
  {
   "cell_type": "code",
   "execution_count": 1,
   "id": "c9b5a7e6-7899-4b64-aba5-74caced59301",
   "metadata": {},
   "outputs": [
    {
     "name": "stdout",
     "output_type": "stream",
     "text": [
      "Empty DataFrame\n",
      "Columns: []\n",
      "Index: []\n"
     ]
    }
   ],
   "source": [
    "import pandas as pd\n",
    "e_data=pd.DataFrame()\n",
    "print(e_data)"
   ]
  },
  {
   "cell_type": "code",
   "execution_count": 2,
   "id": "7ad3a671-989d-4cb6-8669-6f1d5db8ba8f",
   "metadata": {},
   "outputs": [
    {
     "name": "stdout",
     "output_type": "stream",
     "text": [
      "['a', 'b', 'c', 'd', 'w']\n"
     ]
    }
   ],
   "source": [
    "list=['a','b','c','d','w'] \n",
    "print(list)"
   ]
  },
  {
   "cell_type": "code",
   "execution_count": 4,
   "id": "2094ba8d-5398-4ea6-95b7-93679d1306f7",
   "metadata": {},
   "outputs": [
    {
     "name": "stdout",
     "output_type": "stream",
     "text": [
      "   0\n",
      "0  a\n",
      "1  b\n",
      "2  c\n",
      "3  d\n",
      "4  w\n"
     ]
    }
   ],
   "source": [
    "d=pd.DataFrame(list)\n",
    "print(d)"
   ]
  },
  {
   "cell_type": "code",
   "execution_count": 6,
   "id": "35906a2c-d419-46c0-9ad9-d3865c963872",
   "metadata": {},
   "outputs": [
    {
     "name": "stdout",
     "output_type": "stream",
     "text": [
      "   0  1  2  3  4\n",
      "0  1  2  3  4  5\n",
      "1  6  7  8  9  0\n"
     ]
    }
   ],
   "source": [
    "l2=[[1,2,3,4,5],[6,7,8,9,0]]\n",
    "d2=pd.DataFrame(l2)\n",
    "\n",
    "print(d2)"
   ]
  },
  {
   "cell_type": "code",
   "execution_count": 8,
   "id": "f854b028-ba30-4aab-b597-134a73533035",
   "metadata": {},
   "outputs": [
    {
     "name": "stdout",
     "output_type": "stream",
     "text": [
      "   0  1  2  3  4\n",
      "0  1  2  3  4  5\n",
      "1  6  7  8  9  0\n",
      "2  a  b  c  d  e\n"
     ]
    }
   ],
   "source": [
    "l3=[[1,2,3,4,5],[6,7,8,9,0],['a','b','c','d','e']]  \n",
    "d3=pd.DataFrame(l3)\n",
    "print(d3)\n"
   ]
  },
  {
   "cell_type": "code",
   "execution_count": 11,
   "id": "332e7fbc-6f41-4877-99e3-fd43bda59d2c",
   "metadata": {},
   "outputs": [
    {
     "name": "stdout",
     "output_type": "stream",
     "text": [
      "   ID    Name\n",
      "0   1   Sobia\n",
      "1   2     Ali\n",
      "2   3    Amna\n",
      "3   4  Rimsha\n"
     ]
    }
   ],
   "source": [
    "di2={'ID':[1,2,3,4],'Name':['Sobia','Ali','Amna','Rimsha']} \n",
    "d5=pd.DataFrame(di2)\n",
    "print(d5)"
   ]
  },
  {
   "cell_type": "code",
   "execution_count": 5,
   "id": "095c7abf-8a4d-48f6-90f8-21f620623cbe",
   "metadata": {},
   "outputs": [
    {
     "name": "stdout",
     "output_type": "stream",
     "text": [
      "            date  precipitation  temp_max  temp_min  wind  weather\n",
      "0     2012-01-01            0.0      12.8       5.0   4.7  drizzle\n",
      "1     2012-01-02           10.9      10.6       2.8   4.5     rain\n",
      "2     2012-01-03            0.8      11.7       7.2   2.3     rain\n",
      "3     2012-01-04           20.3      12.2       5.6   4.7     rain\n",
      "4     2012-01-05            1.3       8.9       2.8   6.1     rain\n",
      "...          ...            ...       ...       ...   ...      ...\n",
      "1456  2015-12-27            8.6       4.4       1.7   2.9     rain\n",
      "1457  2015-12-28            1.5       5.0       1.7   1.3     rain\n",
      "1458  2015-12-29            0.0       7.2       0.6   2.6      fog\n",
      "1459  2015-12-30            0.0       5.6      -1.0   3.4      sun\n",
      "1460  2015-12-31            0.0       5.6      -2.1   3.5      sun\n",
      "\n",
      "[1461 rows x 6 columns]\n"
     ]
    }
   ],
   "source": [
    "import pandas as pd\n",
    "\n",
    "df = pd.read_csv(\"C:\\\\Users\\\\Hira Coder\\\\Downloads\\\\seattle-weather.csv\")\n",
    "print(df)\n"
   ]
  },
  {
   "cell_type": "code",
   "execution_count": 6,
   "id": "9fde8375-9982-4d61-9cba-a305256624f2",
   "metadata": {},
   "outputs": [
    {
     "name": "stdout",
     "output_type": "stream",
     "text": [
      "         date  precipitation  temp_max  temp_min  wind  weather\n",
      "0  2012-01-01            0.0      12.8       5.0   4.7  drizzle\n",
      "1  2012-01-02           10.9      10.6       2.8   4.5     rain\n",
      "2  2012-01-03            0.8      11.7       7.2   2.3     rain\n",
      "3  2012-01-04           20.3      12.2       5.6   4.7     rain\n",
      "4  2012-01-05            1.3       8.9       2.8   6.1     rain\n"
     ]
    }
   ],
   "source": [
    "print(df.head())"
   ]
  },
  {
   "cell_type": "code",
   "execution_count": 7,
   "id": "3e19a8a0-6cb9-4799-8635-f0023c13cf40",
   "metadata": {},
   "outputs": [
    {
     "name": "stdout",
     "output_type": "stream",
     "text": [
      "            date  precipitation  temp_max  temp_min  wind weather\n",
      "1456  2015-12-27            8.6       4.4       1.7   2.9    rain\n",
      "1457  2015-12-28            1.5       5.0       1.7   1.3    rain\n",
      "1458  2015-12-29            0.0       7.2       0.6   2.6     fog\n",
      "1459  2015-12-30            0.0       5.6      -1.0   3.4     sun\n",
      "1460  2015-12-31            0.0       5.6      -2.1   3.5     sun\n"
     ]
    }
   ],
   "source": [
    "print(df.tail())"
   ]
  },
  {
   "cell_type": "code",
   "execution_count": 4,
   "id": "1d1a345e-f8cf-4e04-ab6e-c074fd858312",
   "metadata": {},
   "outputs": [
    {
     "name": "stdout",
     "output_type": "stream",
     "text": [
      "Empty DataFrame\n",
      "Columns: []\n",
      "Index: []\n"
     ]
    }
   ],
   "source": [
    "import pandas as pd\n",
    "e_data=pd.DataFrame()\n",
    "print(e_data)"
   ]
  },
  {
   "cell_type": "code",
   "execution_count": 8,
   "id": "1956a2a8-2cff-4aa9-90aa-1b39c14c8e41",
   "metadata": {},
   "outputs": [
    {
     "name": "stdout",
     "output_type": "stream",
     "text": [
      "   0\n",
      "0  H\n",
      "1  i\n",
      "2  r\n",
      "3  a\n",
      "4  k\n",
      "5  h\n",
      "6  a\n",
      "7  n\n"
     ]
    }
   ],
   "source": [
    "l=[\"H\",\"i\",\"r\",\"a\",\"k\",\"h\",\"a\",\"n\"]\n",
    "print (pd.DataFrame(l))"
   ]
  },
  {
   "cell_type": "code",
   "execution_count": 9,
   "id": "e9bbdc6c-f6e5-46c2-aed3-a26f9534d46d",
   "metadata": {},
   "outputs": [
    {
     "data": {
      "text/plain": [
       "['H', 'i', 'r', 'a', 'k', 'h', 'a', 'n']"
      ]
     },
     "execution_count": 9,
     "metadata": {},
     "output_type": "execute_result"
    }
   ],
   "source": [
    "l"
   ]
  },
  {
   "cell_type": "code",
   "execution_count": 14,
   "id": "d9e6f997-80ae-43fc-9c0a-81db7b5ccfc7",
   "metadata": {},
   "outputs": [
    {
     "name": "stdout",
     "output_type": "stream",
     "text": [
      "   0  1  2  3\n",
      "0  C  a  l  l\n",
      "1  k  h  a  n\n",
      "2  c  o  d  e\n"
     ]
    }
   ],
   "source": [
    "l2=[[\"C\",\"a\",\"l\",\"l\"],[\"k\",\"h\",\"a\",\"n\"],[\"c\",\"o\",\"d\",\"e\"]]\n",
    "print (pd.DataFrame(l2))\n"
   ]
  },
  {
   "cell_type": "code",
   "execution_count": 16,
   "id": "f8baf555-7637-4114-9d52-1a6371121ee8",
   "metadata": {},
   "outputs": [
    {
     "name": "stdout",
     "output_type": "stream",
     "text": [
      "   0  1  2  3  4\n",
      "0  1  2  3  4  5\n",
      "1  4  5  6  7  8\n",
      "2  a  b  c  d  e\n"
     ]
    }
   ],
   "source": [
    "list3=[[1,2,3,4,5],[4,5,6,7,8],['a','b','c','d','e']]  \n",
    "print (pd.DataFrame(list3))"
   ]
  },
  {
   "cell_type": "code",
   "execution_count": 22,
   "id": "25e7bf99-b3ad-44c4-bb51-a118841a2d6e",
   "metadata": {},
   "outputs": [
    {
     "name": "stdout",
     "output_type": "stream",
     "text": [
      "   ID  Name \n",
      "0    1  Hira\n",
      "1    2  Khan\n",
      "2    3  Amna\n",
      "3    4   Ali\n",
      "4    5   Rim\n"
     ]
    }
   ],
   "source": [
    "d2={'ID ' :[1,2,3,4,5],'Name ':['Hira','Khan','Amna','Ali','Rim']}\n",
    "d=(pd.DataFrame(d2))\n",
    "print(d)"
   ]
  },
  {
   "cell_type": "code",
   "execution_count": 24,
   "id": "5aef343d-acc4-47f0-9b65-dfc2c487289b",
   "metadata": {},
   "outputs": [
    {
     "name": "stdout",
     "output_type": "stream",
     "text": [
      "             id            Number\n",
      "0  [1, 2, 3, 4]  [12, 45, 77, 90]\n",
      "1  [9, 8, 3, 4]  [12, 45, 77, 90]\n"
     ]
    }
   ],
   "source": [
    "list_d=[{'id':[1,2,3,4],'Number':[12,45,77,90]},{'Number':[12,45,77,90],'id':[9,8,3,4]}] \n",
    "d6=pd.DataFrame(list_d) \n",
    "print(d6)"
   ]
  },
  {
   "cell_type": "code",
   "execution_count": 29,
   "id": "23fb10a1-df3f-4321-9505-4baa8d28cd4c",
   "metadata": {},
   "outputs": [
    {
     "name": "stdout",
     "output_type": "stream",
     "text": [
      "{'Id': 0    1\n",
      "1    2\n",
      "2    3\n",
      "3    4\n",
      "dtype: int64, 'Name': 0    samad\n",
      "1      Abc\n",
      "2     Umer\n",
      "3    Ahmad\n",
      "dtype: object}\n"
     ]
    }
   ],
   "source": [
    "ps = {\n",
    "    'Id': pd.Series([1, 2, 3, 4]),\n",
    "    'Name': pd.Series(['samad', 'Abc', 'Umer', 'Ahmad'])\n",
    "}\n",
    "print(ps)\n",
    "\n",
    "#What is happening here?\n",
    "#You are creating a Python dictionary named ps.\n",
    "#The dictionary has two keys: \"Id\" and \"Name\".\n",
    "#Each key maps to a pandas Series object.\n",
    "\n",
    "#'Id' : pd.Series([1,2,3,4])\n",
    "#→ Creates a pandas Series containing numbers [1,2,3,4].\n",
    "#'Name' : pd.Series(['A samad','Abc','Umer','Ahmad'])\n",
    "#→ Creates a pandas Series containing strings ['A samad','Abc','Umer','Ahmad'].#"
   ]
  },
  {
   "cell_type": "code",
   "execution_count": 30,
   "id": "75cf9f4b-67bc-403e-92b1-94bdf88ddb99",
   "metadata": {},
   "outputs": [
    {
     "name": "stdout",
     "output_type": "stream",
     "text": [
      "   Id   Name\n",
      "0   1  samad\n",
      "1   2    Abc\n",
      "2   3   Umer\n",
      "3   4  Ahmad\n"
     ]
    }
   ],
   "source": [
    "d2=pd.DataFrame(ps)\n",
    "print (d2)"
   ]
  },
  {
   "cell_type": "code",
   "execution_count": 37,
   "id": "39c3cbb5-7955-47fb-9ef7-51adc5b0497a",
   "metadata": {},
   "outputs": [],
   "source": [
    "#df=pd.read_csv(\"C:\\\\Users\\\\Hira Coder\\\\Downloads\\\\insurance.csv\")\n",
    "#print(df)"
   ]
  },
  {
   "cell_type": "code",
   "execution_count": 41,
   "id": "67e36895-943a-4875-9403-72479d02fb8a",
   "metadata": {},
   "outputs": [],
   "source": [
    "#df.head()"
   ]
  },
  {
   "cell_type": "code",
   "execution_count": 40,
   "id": "251684d2-5436-4111-9203-192a38b283c7",
   "metadata": {},
   "outputs": [],
   "source": [
    "#df.tail()"
   ]
  },
  {
   "cell_type": "code",
   "execution_count": 49,
   "id": "06755bb4-c194-4359-b966-fe42a71ebcb2",
   "metadata": {},
   "outputs": [
    {
     "name": "stdout",
     "output_type": "stream",
     "text": [
      "   ID Name\n",
      "0   1    H\n",
      "1   2    I\n",
      "2   3    R\n",
      "3   4    A\n",
      "   ID Name\n",
      "0   1    H\n",
      "1   2    I\n",
      "2   7    A\n",
      "3   8    N\n"
     ]
    }
   ],
   "source": [
    "df2=pd.DataFrame({'ID':[1,2,3,4] , 'Name':['H','I','R','A']})\n",
    "print(df2)\n",
    "df3=pd.DataFrame({'ID':[1,2,7,8] , 'Name':['H','I','A','N']})\n",
    "print(df3)"
   ]
  },
  {
   "cell_type": "code",
   "execution_count": 50,
   "id": "8cb6a356-13bb-4dc8-9877-874daf82e79c",
   "metadata": {},
   "outputs": [
    {
     "data": {
      "text/html": [
       "<div>\n",
       "<style scoped>\n",
       "    .dataframe tbody tr th:only-of-type {\n",
       "        vertical-align: middle;\n",
       "    }\n",
       "\n",
       "    .dataframe tbody tr th {\n",
       "        vertical-align: top;\n",
       "    }\n",
       "\n",
       "    .dataframe thead th {\n",
       "        text-align: right;\n",
       "    }\n",
       "</style>\n",
       "<table border=\"1\" class=\"dataframe\">\n",
       "  <thead>\n",
       "    <tr style=\"text-align: right;\">\n",
       "      <th></th>\n",
       "      <th>ID</th>\n",
       "      <th>Name</th>\n",
       "    </tr>\n",
       "  </thead>\n",
       "  <tbody>\n",
       "    <tr>\n",
       "      <th>0</th>\n",
       "      <td>1</td>\n",
       "      <td>H</td>\n",
       "    </tr>\n",
       "    <tr>\n",
       "      <th>1</th>\n",
       "      <td>2</td>\n",
       "      <td>I</td>\n",
       "    </tr>\n",
       "  </tbody>\n",
       "</table>\n",
       "</div>"
      ],
      "text/plain": [
       "   ID Name\n",
       "0   1    H\n",
       "1   2    I"
      ]
     },
     "execution_count": 50,
     "metadata": {},
     "output_type": "execute_result"
    }
   ],
   "source": [
    "pd.merge(df2,df3)   #By default, pd.merge() tries to join on common column names and their values if placed in same id.\n"
   ]
  },
  {
   "cell_type": "code",
   "execution_count": 51,
   "id": "40195546-e1b6-4017-a174-5ec4487970d1",
   "metadata": {},
   "outputs": [
    {
     "name": "stdout",
     "output_type": "stream",
     "text": [
      "   ID Name\n",
      "0   1    H\n",
      "1   2    I\n",
      "2   3    R\n",
      "3   4    A\n",
      "   ID Name\n",
      "0   5    K\n",
      "1   6    H\n",
      "2   7    A\n",
      "3   8    N\n"
     ]
    }
   ],
   "source": [
    "df2=pd.DataFrame({'ID':[1,2,3,4] , 'Name':['H','I','R','A']})\n",
    "print(df2)\n",
    "df3=pd.DataFrame({'ID':[5,6,7,8] , 'Name':['K','H','A','N']})\n",
    "print(df3)"
   ]
  },
  {
   "cell_type": "code",
   "execution_count": 52,
   "id": "f6f8916c-26f9-4e35-8459-2a683fb8ea14",
   "metadata": {},
   "outputs": [
    {
     "data": {
      "text/html": [
       "<div>\n",
       "<style scoped>\n",
       "    .dataframe tbody tr th:only-of-type {\n",
       "        vertical-align: middle;\n",
       "    }\n",
       "\n",
       "    .dataframe tbody tr th {\n",
       "        vertical-align: top;\n",
       "    }\n",
       "\n",
       "    .dataframe thead th {\n",
       "        text-align: right;\n",
       "    }\n",
       "</style>\n",
       "<table border=\"1\" class=\"dataframe\">\n",
       "  <thead>\n",
       "    <tr style=\"text-align: right;\">\n",
       "      <th></th>\n",
       "      <th>ID_x</th>\n",
       "      <th>Name_x</th>\n",
       "      <th>ID_y</th>\n",
       "      <th>Name_y</th>\n",
       "    </tr>\n",
       "  </thead>\n",
       "  <tbody>\n",
       "    <tr>\n",
       "      <th>0</th>\n",
       "      <td>1</td>\n",
       "      <td>H</td>\n",
       "      <td>5</td>\n",
       "      <td>K</td>\n",
       "    </tr>\n",
       "    <tr>\n",
       "      <th>1</th>\n",
       "      <td>2</td>\n",
       "      <td>I</td>\n",
       "      <td>6</td>\n",
       "      <td>H</td>\n",
       "    </tr>\n",
       "    <tr>\n",
       "      <th>2</th>\n",
       "      <td>3</td>\n",
       "      <td>R</td>\n",
       "      <td>7</td>\n",
       "      <td>A</td>\n",
       "    </tr>\n",
       "    <tr>\n",
       "      <th>3</th>\n",
       "      <td>4</td>\n",
       "      <td>A</td>\n",
       "      <td>8</td>\n",
       "      <td>N</td>\n",
       "    </tr>\n",
       "  </tbody>\n",
       "</table>\n",
       "</div>"
      ],
      "text/plain": [
       "   ID_x Name_x  ID_y Name_y\n",
       "0     1      H     5      K\n",
       "1     2      I     6      H\n",
       "2     3      R     7      A\n",
       "3     4      A     8      N"
      ]
     },
     "execution_count": 52,
     "metadata": {},
     "output_type": "execute_result"
    }
   ],
   "source": [
    "pd.merge(df2,df3, left_index=True, right_index=True)  \n",
    "#→ joins row by row using index.\n",
    "\n",
    "#left_index=True, right_index=True\n",
    "#Means#:\n",
    "#Column values compare mat karo.\n",
    "#Instead, rows ke index numbers (0,1,2,3 …) ke basis par merge karo."
   ]
  },
  {
   "cell_type": "code",
   "execution_count": 56,
   "id": "57f630b6-7a19-4f86-8f4b-88076df995f4",
   "metadata": {},
   "outputs": [
    {
     "name": "stdout",
     "output_type": "stream",
     "text": [
      "   ID Name\n",
      "0   7    C\n",
      "1   8    O\n",
      "2  11    D\n",
      "3  12    E\n"
     ]
    }
   ],
   "source": [
    "df4=pd.DataFrame({'ID':[7,8,11,12],'Name':['C','O','D','E']})\n",
    "print(df4)"
   ]
  },
  {
   "cell_type": "code",
   "execution_count": 57,
   "id": "97005689-ed72-4d13-b1e3-7aa76e7ba24e",
   "metadata": {},
   "outputs": [
    {
     "data": {
      "text/html": [
       "<div>\n",
       "<style scoped>\n",
       "    .dataframe tbody tr th:only-of-type {\n",
       "        vertical-align: middle;\n",
       "    }\n",
       "\n",
       "    .dataframe tbody tr th {\n",
       "        vertical-align: top;\n",
       "    }\n",
       "\n",
       "    .dataframe thead th {\n",
       "        text-align: right;\n",
       "    }\n",
       "</style>\n",
       "<table border=\"1\" class=\"dataframe\">\n",
       "  <thead>\n",
       "    <tr style=\"text-align: right;\">\n",
       "      <th></th>\n",
       "      <th>ID</th>\n",
       "      <th>Name_x</th>\n",
       "      <th>Name_y</th>\n",
       "    </tr>\n",
       "  </thead>\n",
       "  <tbody>\n",
       "    <tr>\n",
       "      <th>0</th>\n",
       "      <td>7</td>\n",
       "      <td>A</td>\n",
       "      <td>C</td>\n",
       "    </tr>\n",
       "    <tr>\n",
       "      <th>1</th>\n",
       "      <td>8</td>\n",
       "      <td>N</td>\n",
       "      <td>O</td>\n",
       "    </tr>\n",
       "  </tbody>\n",
       "</table>\n",
       "</div>"
      ],
      "text/plain": [
       "   ID Name_x Name_y\n",
       "0   7      A      C\n",
       "1   8      N      O"
      ]
     },
     "execution_count": 57,
     "metadata": {},
     "output_type": "execute_result"
    }
   ],
   "source": [
    "pd.merge(df3,df4, on='ID')  \n",
    "# same id hona zarori ha dono datasets mai wrna empty data frame ayee gaa "
   ]
  },
  {
   "cell_type": "code",
   "execution_count": 60,
   "id": "d094df56-dff1-4e3a-9b6f-cc5f00975f97",
   "metadata": {},
   "outputs": [
    {
     "data": {
      "text/html": [
       "<div>\n",
       "<style scoped>\n",
       "    .dataframe tbody tr th:only-of-type {\n",
       "        vertical-align: middle;\n",
       "    }\n",
       "\n",
       "    .dataframe tbody tr th {\n",
       "        vertical-align: top;\n",
       "    }\n",
       "\n",
       "    .dataframe thead th {\n",
       "        text-align: right;\n",
       "    }\n",
       "</style>\n",
       "<table border=\"1\" class=\"dataframe\">\n",
       "  <thead>\n",
       "    <tr style=\"text-align: right;\">\n",
       "      <th></th>\n",
       "      <th>ID</th>\n",
       "      <th>Name_First</th>\n",
       "      <th>Name_Second</th>\n",
       "    </tr>\n",
       "  </thead>\n",
       "  <tbody>\n",
       "    <tr>\n",
       "      <th>0</th>\n",
       "      <td>7</td>\n",
       "      <td>A</td>\n",
       "      <td>C</td>\n",
       "    </tr>\n",
       "    <tr>\n",
       "      <th>1</th>\n",
       "      <td>8</td>\n",
       "      <td>N</td>\n",
       "      <td>O</td>\n",
       "    </tr>\n",
       "  </tbody>\n",
       "</table>\n",
       "</div>"
      ],
      "text/plain": [
       "   ID Name_First Name_Second\n",
       "0   7          A           C\n",
       "1   8          N           O"
      ]
     },
     "execution_count": 60,
     "metadata": {},
     "output_type": "execute_result"
    }
   ],
   "source": [
    "pd.merge(df3,df4, on='ID', suffixes=('_First','_Second'))  \n",
    "#Jab dono DataFrames me same naam ke columns hote hain (other than the join key \"ID\"),tab merge ke baad confusion ho sakta hai.\n",
    "# confusuion sy bachany k liyee to suffixes ka use krty ha same names ma\n",
    "#Same column names ke saath ek suffix add karna taake unko differentiate kiya ja sake."
   ]
  },
  {
   "cell_type": "code",
   "execution_count": 62,
   "id": "b395c437-31d6-43ac-bdde-09519cd16727",
   "metadata": {},
   "outputs": [
    {
     "data": {
      "text/plain": [
       "0    0\n",
       "1    1\n",
       "2    2\n",
       "dtype: int64"
      ]
     },
     "execution_count": 62,
     "metadata": {},
     "output_type": "execute_result"
    }
   ],
   "source": [
    "sr1 = pd.Series([0,1,2])  \n",
    "sr1  \n"
   ]
  },
  {
   "cell_type": "code",
   "execution_count": 63,
   "id": "0c5e9c76-db48-458f-a4bc-3c9a3fc0f6c8",
   "metadata": {},
   "outputs": [
    {
     "data": {
      "text/plain": [
       "0    3\n",
       "1    4\n",
       "2    5\n",
       "dtype: int64"
      ]
     },
     "execution_count": 63,
     "metadata": {},
     "output_type": "execute_result"
    }
   ],
   "source": [
    "sr2 = pd.Series([3,4,5])  \n",
    "sr2"
   ]
  },
  {
   "cell_type": "code",
   "execution_count": 64,
   "id": "9fef94ab-8f3d-42b7-babc-e1bfe8752016",
   "metadata": {},
   "outputs": [],
   "source": [
    "#pd.Series → ek 1D array (list jaisa) object hota hai pandas me, jisme values ke saath ek index (row labels) bhi hota hai.\n",
    "#sr1 aur sr2 dono alag-alag Series hai\n",
    "\n",
    "#Left side (0,1,2) → index (row numbers).\n",
    "#Right side (0,1,2 and 3,4,5) → actual values.\n",
    "#dtype: int64 → data type integers hain."
   ]
  },
  {
   "cell_type": "code",
   "execution_count": 66,
   "id": "e5500383-5c39-4436-8809-49503f234789",
   "metadata": {},
   "outputs": [
    {
     "data": {
      "text/html": [
       "<div>\n",
       "<style scoped>\n",
       "    .dataframe tbody tr th:only-of-type {\n",
       "        vertical-align: middle;\n",
       "    }\n",
       "\n",
       "    .dataframe tbody tr th {\n",
       "        vertical-align: top;\n",
       "    }\n",
       "\n",
       "    .dataframe thead th {\n",
       "        text-align: right;\n",
       "    }\n",
       "</style>\n",
       "<table border=\"1\" class=\"dataframe\">\n",
       "  <thead>\n",
       "    <tr style=\"text-align: right;\">\n",
       "      <th></th>\n",
       "      <th>0</th>\n",
       "      <th>1</th>\n",
       "    </tr>\n",
       "  </thead>\n",
       "  <tbody>\n",
       "    <tr>\n",
       "      <th>0</th>\n",
       "      <td>0</td>\n",
       "      <td>3</td>\n",
       "    </tr>\n",
       "    <tr>\n",
       "      <th>1</th>\n",
       "      <td>1</td>\n",
       "      <td>4</td>\n",
       "    </tr>\n",
       "    <tr>\n",
       "      <th>2</th>\n",
       "      <td>2</td>\n",
       "      <td>5</td>\n",
       "    </tr>\n",
       "  </tbody>\n",
       "</table>\n",
       "</div>"
      ],
      "text/plain": [
       "   0  1\n",
       "0  0  3\n",
       "1  1  4\n",
       "2  2  5"
      ]
     },
     "execution_count": 66,
     "metadata": {},
     "output_type": "execute_result"
    }
   ],
   "source": [
    "pd.concat([sr1,sr2],axis=1)  \n"
   ]
  },
  {
   "cell_type": "code",
   "execution_count": 67,
   "id": "a8f14866-04ec-45f4-9ac6-3890df7e36f0",
   "metadata": {},
   "outputs": [
    {
     "name": "stdout",
     "output_type": "stream",
     "text": [
      "   First  Second\n",
      "0      0       3\n",
      "1      1       4\n",
      "2      2       5\n"
     ]
    }
   ],
   "source": [
    "sr1 = pd.Series([0,1,2])  \n",
    "sr2 = pd.Series([3,4,5])  \n",
    "\n",
    "# Combine into DataFrame\n",
    "df = pd.DataFrame({\n",
    "    'First': sr1,\n",
    "    'Second': sr2\n",
    "})\n",
    "\n",
    "print(df)\n"
   ]
  },
  {
   "cell_type": "code",
   "execution_count": 75,
   "id": "1d32690f-25c0-4f85-a09e-8b8be8c7caa4",
   "metadata": {},
   "outputs": [
    {
     "name": "stdout",
     "output_type": "stream",
     "text": [
      "   ID Name Class\n",
      "0   1    a     s\n",
      "1   2    b     t\n",
      "2   3    c     u\n",
      "3   4    d     v\n"
     ]
    }
   ],
   "source": [
    "df6=pd.DataFrame({'ID':[1,2,3,4],'Name':['a','b','c','d'],'Class':['s','t','u','v']})\n",
    "print(df6)"
   ]
  },
  {
   "cell_type": "code",
   "execution_count": 76,
   "id": "3d2d27ed-ab67-40d9-8607-0b84bfd132ed",
   "metadata": {},
   "outputs": [
    {
     "name": "stdout",
     "output_type": "stream",
     "text": [
      "   ID Name Class\n",
      "0   5    e     w\n",
      "1   6    f     x\n",
      "2   7    g     y\n",
      "3   8    h     z\n"
     ]
    }
   ],
   "source": [
    "df7=pd.DataFrame({'ID':[5,6,7,8],'Name':['e','f','g','h'],'Class':['w','x','y','z']})\n",
    "print(df7)"
   ]
  },
  {
   "cell_type": "code",
   "execution_count": 79,
   "id": "1a3ab72c-25a6-404f-9386-ce772e6e4512",
   "metadata": {},
   "outputs": [
    {
     "data": {
      "text/html": [
       "<div>\n",
       "<style scoped>\n",
       "    .dataframe tbody tr th:only-of-type {\n",
       "        vertical-align: middle;\n",
       "    }\n",
       "\n",
       "    .dataframe tbody tr th {\n",
       "        vertical-align: top;\n",
       "    }\n",
       "\n",
       "    .dataframe thead th {\n",
       "        text-align: right;\n",
       "    }\n",
       "</style>\n",
       "<table border=\"1\" class=\"dataframe\">\n",
       "  <thead>\n",
       "    <tr style=\"text-align: right;\">\n",
       "      <th></th>\n",
       "      <th>ID</th>\n",
       "      <th>Name</th>\n",
       "      <th>Class</th>\n",
       "    </tr>\n",
       "  </thead>\n",
       "  <tbody>\n",
       "    <tr>\n",
       "      <th>0</th>\n",
       "      <td>1</td>\n",
       "      <td>a</td>\n",
       "      <td>s</td>\n",
       "    </tr>\n",
       "    <tr>\n",
       "      <th>1</th>\n",
       "      <td>2</td>\n",
       "      <td>b</td>\n",
       "      <td>t</td>\n",
       "    </tr>\n",
       "    <tr>\n",
       "      <th>2</th>\n",
       "      <td>3</td>\n",
       "      <td>c</td>\n",
       "      <td>u</td>\n",
       "    </tr>\n",
       "    <tr>\n",
       "      <th>3</th>\n",
       "      <td>4</td>\n",
       "      <td>d</td>\n",
       "      <td>v</td>\n",
       "    </tr>\n",
       "    <tr>\n",
       "      <th>0</th>\n",
       "      <td>5</td>\n",
       "      <td>e</td>\n",
       "      <td>w</td>\n",
       "    </tr>\n",
       "    <tr>\n",
       "      <th>1</th>\n",
       "      <td>6</td>\n",
       "      <td>f</td>\n",
       "      <td>x</td>\n",
       "    </tr>\n",
       "    <tr>\n",
       "      <th>2</th>\n",
       "      <td>7</td>\n",
       "      <td>g</td>\n",
       "      <td>y</td>\n",
       "    </tr>\n",
       "    <tr>\n",
       "      <th>3</th>\n",
       "      <td>8</td>\n",
       "      <td>h</td>\n",
       "      <td>z</td>\n",
       "    </tr>\n",
       "  </tbody>\n",
       "</table>\n",
       "</div>"
      ],
      "text/plain": [
       "   ID Name Class\n",
       "0   1    a     s\n",
       "1   2    b     t\n",
       "2   3    c     u\n",
       "3   4    d     v\n",
       "0   5    e     w\n",
       "1   6    f     x\n",
       "2   7    g     y\n",
       "3   8    h     z"
      ]
     },
     "execution_count": 79,
     "metadata": {},
     "output_type": "execute_result"
    }
   ],
   "source": [
    "pd.concat([df6,df7])  #this combine column wise"
   ]
  },
  {
   "cell_type": "code",
   "execution_count": 80,
   "id": "ad1a18d9-3637-4bfc-a45c-2bb4903d8c76",
   "metadata": {},
   "outputs": [
    {
     "data": {
      "text/html": [
       "<div>\n",
       "<style scoped>\n",
       "    .dataframe tbody tr th:only-of-type {\n",
       "        vertical-align: middle;\n",
       "    }\n",
       "\n",
       "    .dataframe tbody tr th {\n",
       "        vertical-align: top;\n",
       "    }\n",
       "\n",
       "    .dataframe thead th {\n",
       "        text-align: right;\n",
       "    }\n",
       "</style>\n",
       "<table border=\"1\" class=\"dataframe\">\n",
       "  <thead>\n",
       "    <tr style=\"text-align: right;\">\n",
       "      <th></th>\n",
       "      <th>ID</th>\n",
       "      <th>Name</th>\n",
       "      <th>Class</th>\n",
       "      <th>ID</th>\n",
       "      <th>Name</th>\n",
       "      <th>Class</th>\n",
       "    </tr>\n",
       "  </thead>\n",
       "  <tbody>\n",
       "    <tr>\n",
       "      <th>0</th>\n",
       "      <td>1</td>\n",
       "      <td>a</td>\n",
       "      <td>s</td>\n",
       "      <td>5</td>\n",
       "      <td>e</td>\n",
       "      <td>w</td>\n",
       "    </tr>\n",
       "    <tr>\n",
       "      <th>1</th>\n",
       "      <td>2</td>\n",
       "      <td>b</td>\n",
       "      <td>t</td>\n",
       "      <td>6</td>\n",
       "      <td>f</td>\n",
       "      <td>x</td>\n",
       "    </tr>\n",
       "    <tr>\n",
       "      <th>2</th>\n",
       "      <td>3</td>\n",
       "      <td>c</td>\n",
       "      <td>u</td>\n",
       "      <td>7</td>\n",
       "      <td>g</td>\n",
       "      <td>y</td>\n",
       "    </tr>\n",
       "    <tr>\n",
       "      <th>3</th>\n",
       "      <td>4</td>\n",
       "      <td>d</td>\n",
       "      <td>v</td>\n",
       "      <td>8</td>\n",
       "      <td>h</td>\n",
       "      <td>z</td>\n",
       "    </tr>\n",
       "  </tbody>\n",
       "</table>\n",
       "</div>"
      ],
      "text/plain": [
       "   ID Name Class  ID Name Class\n",
       "0   1    a     s   5    e     w\n",
       "1   2    b     t   6    f     x\n",
       "2   3    c     u   7    g     y\n",
       "3   4    d     v   8    h     z"
      ]
     },
     "execution_count": 80,
     "metadata": {},
     "output_type": "execute_result"
    }
   ],
   "source": [
    "pd.concat([df6,df7],axis=1)  # to combine horizontally\n",
    "\n",
    "#axis=0 → neeche add karo → rows ka kaam hai\n",
    "\n",
    "#axis=1 → side-by-side add karo → columns ka kaam hai"
   ]
  },
  {
   "cell_type": "code",
   "execution_count": 84,
   "id": "adb255e8-63e4-441d-bfd4-1a169912b80a",
   "metadata": {},
   "outputs": [
    {
     "data": {
      "text/html": [
       "<div>\n",
       "<style scoped>\n",
       "    .dataframe tbody tr th:only-of-type {\n",
       "        vertical-align: middle;\n",
       "    }\n",
       "\n",
       "    .dataframe tbody tr th {\n",
       "        vertical-align: top;\n",
       "    }\n",
       "\n",
       "    .dataframe thead th {\n",
       "        text-align: right;\n",
       "    }\n",
       "</style>\n",
       "<table border=\"1\" class=\"dataframe\">\n",
       "  <thead>\n",
       "    <tr style=\"text-align: right;\">\n",
       "      <th></th>\n",
       "      <th>ID</th>\n",
       "      <th>Name</th>\n",
       "      <th>Class</th>\n",
       "    </tr>\n",
       "  </thead>\n",
       "  <tbody>\n",
       "    <tr>\n",
       "      <th>0</th>\n",
       "      <td>1</td>\n",
       "      <td>a</td>\n",
       "      <td>s</td>\n",
       "    </tr>\n",
       "    <tr>\n",
       "      <th>1</th>\n",
       "      <td>2</td>\n",
       "      <td>b</td>\n",
       "      <td>t</td>\n",
       "    </tr>\n",
       "    <tr>\n",
       "      <th>2</th>\n",
       "      <td>3</td>\n",
       "      <td>c</td>\n",
       "      <td>u</td>\n",
       "    </tr>\n",
       "    <tr>\n",
       "      <th>3</th>\n",
       "      <td>4</td>\n",
       "      <td>d</td>\n",
       "      <td>v</td>\n",
       "    </tr>\n",
       "    <tr>\n",
       "      <th>4</th>\n",
       "      <td>5</td>\n",
       "      <td>e</td>\n",
       "      <td>w</td>\n",
       "    </tr>\n",
       "    <tr>\n",
       "      <th>5</th>\n",
       "      <td>6</td>\n",
       "      <td>f</td>\n",
       "      <td>x</td>\n",
       "    </tr>\n",
       "    <tr>\n",
       "      <th>6</th>\n",
       "      <td>7</td>\n",
       "      <td>g</td>\n",
       "      <td>y</td>\n",
       "    </tr>\n",
       "    <tr>\n",
       "      <th>7</th>\n",
       "      <td>8</td>\n",
       "      <td>h</td>\n",
       "      <td>z</td>\n",
       "    </tr>\n",
       "  </tbody>\n",
       "</table>\n",
       "</div>"
      ],
      "text/plain": [
       "   ID Name Class\n",
       "0   1    a     s\n",
       "1   2    b     t\n",
       "2   3    c     u\n",
       "3   4    d     v\n",
       "4   5    e     w\n",
       "5   6    f     x\n",
       "6   7    g     y\n",
       "7   8    h     z"
      ]
     },
     "execution_count": 84,
     "metadata": {},
     "output_type": "execute_result"
    }
   ],
   "source": [
    "pd.concat([df6,df7], ignore_index=True)  \n",
    "\n",
    "#ignore_index=True ka kaam hai old index ko drop kar dena aur naye continuous index assign karna.\n",
    "#ignore_index=False (default) → old index preserve hoga (repeat bhi ho sakta hai).\n",
    "#ignore_index=True → old index hata kar naya sequential index assign hota hai."
   ]
  },
  {
   "cell_type": "code",
   "execution_count": 85,
   "id": "771b5f20-f421-41a8-a488-ceff8544bb76",
   "metadata": {},
   "outputs": [
    {
     "name": "stdout",
     "output_type": "stream",
     "text": [
      "   ID Name Class\n",
      "0   1    a     s\n",
      "1   2    b     t\n",
      "2   3    c     u\n",
      "3   4    d     v\n"
     ]
    }
   ],
   "source": [
    "df8=pd.DataFrame({'ID':[1,2,3,4],'Name':['a','b','c','d'],'Class':['s','t','u','v']})\n",
    "print(df8)"
   ]
  },
  {
   "cell_type": "code",
   "execution_count": 90,
   "id": "870d04c2-e889-43c2-8830-4fcbb5eb0834",
   "metadata": {},
   "outputs": [
    {
     "name": "stdout",
     "output_type": "stream",
     "text": [
      "   ID Name Class\n",
      "0   5    e     w\n",
      "1   6    f     x\n",
      "2   7    g     y\n",
      "3   8    h     z\n"
     ]
    }
   ],
   "source": [
    "df9=pd.DataFrame({'ID':[5,6,7,8],'Name':['e','f','g','h'],'Class':['w','x','y','z']})\n",
    "print(df7)"
   ]
  },
  {
   "cell_type": "code",
   "execution_count": 93,
   "id": "a6cde78b-3997-41c0-9cc6-79eea735c66a",
   "metadata": {},
   "outputs": [
    {
     "data": {
      "text/html": [
       "<div>\n",
       "<style scoped>\n",
       "    .dataframe tbody tr th:only-of-type {\n",
       "        vertical-align: middle;\n",
       "    }\n",
       "\n",
       "    .dataframe tbody tr th {\n",
       "        vertical-align: top;\n",
       "    }\n",
       "\n",
       "    .dataframe thead tr th {\n",
       "        text-align: left;\n",
       "    }\n",
       "</style>\n",
       "<table border=\"1\" class=\"dataframe\">\n",
       "  <thead>\n",
       "    <tr>\n",
       "      <th></th>\n",
       "      <th colspan=\"3\" halign=\"left\">Student</th>\n",
       "      <th colspan=\"3\" halign=\"left\">Tecaher</th>\n",
       "    </tr>\n",
       "    <tr>\n",
       "      <th></th>\n",
       "      <th>ID</th>\n",
       "      <th>Name</th>\n",
       "      <th>Class</th>\n",
       "      <th>ID</th>\n",
       "      <th>Name</th>\n",
       "      <th>Class</th>\n",
       "    </tr>\n",
       "  </thead>\n",
       "  <tbody>\n",
       "    <tr>\n",
       "      <th>0</th>\n",
       "      <td>1</td>\n",
       "      <td>a</td>\n",
       "      <td>s</td>\n",
       "      <td>5</td>\n",
       "      <td>e</td>\n",
       "      <td>w</td>\n",
       "    </tr>\n",
       "    <tr>\n",
       "      <th>1</th>\n",
       "      <td>2</td>\n",
       "      <td>b</td>\n",
       "      <td>t</td>\n",
       "      <td>6</td>\n",
       "      <td>f</td>\n",
       "      <td>x</td>\n",
       "    </tr>\n",
       "    <tr>\n",
       "      <th>2</th>\n",
       "      <td>3</td>\n",
       "      <td>c</td>\n",
       "      <td>u</td>\n",
       "      <td>7</td>\n",
       "      <td>g</td>\n",
       "      <td>y</td>\n",
       "    </tr>\n",
       "    <tr>\n",
       "      <th>3</th>\n",
       "      <td>4</td>\n",
       "      <td>d</td>\n",
       "      <td>v</td>\n",
       "      <td>8</td>\n",
       "      <td>h</td>\n",
       "      <td>z</td>\n",
       "    </tr>\n",
       "  </tbody>\n",
       "</table>\n",
       "</div>"
      ],
      "text/plain": [
       "  Student            Tecaher           \n",
       "       ID Name Class      ID Name Class\n",
       "0       1    a     s       5    e     w\n",
       "1       2    b     t       6    f     x\n",
       "2       3    c     u       7    g     y\n",
       "3       4    d     v       8    h     z"
      ]
     },
     "execution_count": 93,
     "metadata": {},
     "output_type": "execute_result"
    }
   ],
   "source": [
    "pd.concat([df8,df9], axis=1, join='outer', keys=['Student','Tecaher'])  \n",
    "\n",
    "#axis=1\n",
    "#Side by side concat hoga (columns ke saath).\n",
    "#join='outer'\n",
    "#Indexes ka union hoga.\n",
    "#Yahan dono dataframes ke indexes 0,1,2,3 hain → isliye union bhi [0,1,2,3].\n",
    "#Jahan data missing hoga, NaN fill hoga.\n",
    "#keys=['Student','Teacher']\n",
    "#Multi-level column headers banenge:\n",
    "#Pehla level: \"Student\" aur \"Teacher\"\n",
    "#Dusra level: unke apne column names (ID, Name, Class)"
   ]
  },
  {
   "cell_type": "code",
   "execution_count": 97,
   "id": "2ae4e493-d95f-45d1-9c16-1f7f61eff4ea",
   "metadata": {},
   "outputs": [
    {
     "name": "stdout",
     "output_type": "stream",
     "text": [
      "   A   B\n",
      "a  1  11\n",
      "b  2  12\n",
      "c  3  13\n",
      "d  4  14\n"
     ]
    }
   ],
   "source": [
    "df10=pd.DataFrame({ 'A':[1,2,3,4],'B':[11,12,13,14]}, index=['a','b','c','d'])  \n",
    "print(df10)\n",
    "# index custom kr lia ha numbers ki jagah letters "
   ]
  },
  {
   "cell_type": "code",
   "execution_count": 98,
   "id": "e1c282c2-c27c-48b8-a469-2539e3ca8ad8",
   "metadata": {},
   "outputs": [
    {
     "name": "stdout",
     "output_type": "stream",
     "text": [
      "   C   D\n",
      "a  5  11\n",
      "b  6  12\n"
     ]
    }
   ],
   "source": [
    "df11=pd.DataFrame({ 'C':[5,6],'D':[11,12]},index=['a','b']) \n",
    "print(df11)  \n"
   ]
  },
  {
   "cell_type": "code",
   "execution_count": 101,
   "id": "67d1273f-24ae-4c1e-9350-3cc27af6ace8",
   "metadata": {},
   "outputs": [
    {
     "data": {
      "text/html": [
       "<div>\n",
       "<style scoped>\n",
       "    .dataframe tbody tr th:only-of-type {\n",
       "        vertical-align: middle;\n",
       "    }\n",
       "\n",
       "    .dataframe tbody tr th {\n",
       "        vertical-align: top;\n",
       "    }\n",
       "\n",
       "    .dataframe thead th {\n",
       "        text-align: right;\n",
       "    }\n",
       "</style>\n",
       "<table border=\"1\" class=\"dataframe\">\n",
       "  <thead>\n",
       "    <tr style=\"text-align: right;\">\n",
       "      <th></th>\n",
       "      <th>A</th>\n",
       "      <th>B</th>\n",
       "      <th>C</th>\n",
       "      <th>D</th>\n",
       "    </tr>\n",
       "  </thead>\n",
       "  <tbody>\n",
       "    <tr>\n",
       "      <th>a</th>\n",
       "      <td>1</td>\n",
       "      <td>11</td>\n",
       "      <td>5.0</td>\n",
       "      <td>11.0</td>\n",
       "    </tr>\n",
       "    <tr>\n",
       "      <th>b</th>\n",
       "      <td>2</td>\n",
       "      <td>12</td>\n",
       "      <td>6.0</td>\n",
       "      <td>12.0</td>\n",
       "    </tr>\n",
       "    <tr>\n",
       "      <th>c</th>\n",
       "      <td>3</td>\n",
       "      <td>13</td>\n",
       "      <td>NaN</td>\n",
       "      <td>NaN</td>\n",
       "    </tr>\n",
       "    <tr>\n",
       "      <th>d</th>\n",
       "      <td>4</td>\n",
       "      <td>14</td>\n",
       "      <td>NaN</td>\n",
       "      <td>NaN</td>\n",
       "    </tr>\n",
       "  </tbody>\n",
       "</table>\n",
       "</div>"
      ],
      "text/plain": [
       "   A   B    C     D\n",
       "a  1  11  5.0  11.0\n",
       "b  2  12  6.0  12.0\n",
       "c  3  13  NaN   NaN\n",
       "d  4  14  NaN   NaN"
      ]
     },
     "execution_count": 101,
     "metadata": {},
     "output_type": "execute_result"
    }
   ],
   "source": [
    "df10.join(df11)  \n",
    "#Base hamesha df10 ke index hote hain (kyunki tumne df10.join(...) likha).\n",
    "#Pandas har ek index (a,b,c,d) uthata hai aur check karta hai:\n",
    "#Row \"a\" → dono me hai → merge kardo.\n",
    "#Row \"b\" → dono me hai → merge kardo.\n",
    "#Row \"c\" → sirf df10 me hai → df11 me nahi → NaN.\n",
    "#Row \"d\" → sirf df10 me hai → df11 me nahi → NaN."
   ]
  },
  {
   "cell_type": "code",
   "execution_count": 102,
   "id": "192b3283-6486-43d1-b780-0bb23ec112cd",
   "metadata": {},
   "outputs": [
    {
     "data": {
      "text/html": [
       "<div>\n",
       "<style scoped>\n",
       "    .dataframe tbody tr th:only-of-type {\n",
       "        vertical-align: middle;\n",
       "    }\n",
       "\n",
       "    .dataframe tbody tr th {\n",
       "        vertical-align: top;\n",
       "    }\n",
       "\n",
       "    .dataframe thead th {\n",
       "        text-align: right;\n",
       "    }\n",
       "</style>\n",
       "<table border=\"1\" class=\"dataframe\">\n",
       "  <thead>\n",
       "    <tr style=\"text-align: right;\">\n",
       "      <th></th>\n",
       "      <th>C</th>\n",
       "      <th>D</th>\n",
       "      <th>A</th>\n",
       "      <th>B</th>\n",
       "    </tr>\n",
       "  </thead>\n",
       "  <tbody>\n",
       "    <tr>\n",
       "      <th>a</th>\n",
       "      <td>5</td>\n",
       "      <td>11</td>\n",
       "      <td>1</td>\n",
       "      <td>11</td>\n",
       "    </tr>\n",
       "    <tr>\n",
       "      <th>b</th>\n",
       "      <td>6</td>\n",
       "      <td>12</td>\n",
       "      <td>2</td>\n",
       "      <td>12</td>\n",
       "    </tr>\n",
       "  </tbody>\n",
       "</table>\n",
       "</div>"
      ],
      "text/plain": [
       "   C   D  A   B\n",
       "a  5  11  1  11\n",
       "b  6  12  2  12"
      ]
     },
     "execution_count": 102,
     "metadata": {},
     "output_type": "execute_result"
    }
   ],
   "source": [
    "df11.join(df10)  \n",
    "# is m do rows is loye ayi q k base index hm ny df11 ko bnaya tha"
   ]
  },
  {
   "cell_type": "code",
   "execution_count": 103,
   "id": "31cb7e6b-d490-4cd9-b01b-d5bc358dd4cd",
   "metadata": {},
   "outputs": [],
   "source": [
    "#lsuffix → left (pehle wale DataFrame) ke duplicate columns ko suffix do.\n",
    "#rsuffix → right (baad wale DataFrame) ke duplicate columns ko suffix do.\n",
    "#Matlab agar dono dataframes me same column names hain, to suffix use karke unko alag-alag bana sakte ho."
   ]
  },
  {
   "cell_type": "code",
   "execution_count": 108,
   "id": "ecda3490-96f7-4eea-8cc2-18149423025f",
   "metadata": {},
   "outputs": [
    {
     "name": "stdout",
     "output_type": "stream",
     "text": [
      "   A  B\n",
      "a  1  5\n",
      "b  2  6\n",
      "c  3  7\n",
      "d  4  8\n"
     ]
    }
   ],
   "source": [
    "f1=pd.DataFrame({'A':[1,2,3,4],'B':[5,6,7,8]},index=['a','b','c','d'])\n",
    "print(f1)"
   ]
  },
  {
   "cell_type": "code",
   "execution_count": 109,
   "id": "0754133e-31cb-49e4-8122-f453c4c4b2a2",
   "metadata": {},
   "outputs": [
    {
     "name": "stdout",
     "output_type": "stream",
     "text": [
      "   A  B\n",
      "a  1  5\n",
      "b  2  6\n",
      "c  3  7\n",
      "d  4  8\n"
     ]
    }
   ],
   "source": [
    "f2=pd.DataFrame({'A':[1,2,3,4],'B':[5,6,7,8]},index=['a','b','c','d'])\n",
    "print(f2)"
   ]
  },
  {
   "cell_type": "code",
   "execution_count": 111,
   "id": "9056d079-a03a-4a37-b22a-f5b7ab96923e",
   "metadata": {},
   "outputs": [
    {
     "data": {
      "text/html": [
       "<div>\n",
       "<style scoped>\n",
       "    .dataframe tbody tr th:only-of-type {\n",
       "        vertical-align: middle;\n",
       "    }\n",
       "\n",
       "    .dataframe tbody tr th {\n",
       "        vertical-align: top;\n",
       "    }\n",
       "\n",
       "    .dataframe thead th {\n",
       "        text-align: right;\n",
       "    }\n",
       "</style>\n",
       "<table border=\"1\" class=\"dataframe\">\n",
       "  <thead>\n",
       "    <tr style=\"text-align: right;\">\n",
       "      <th></th>\n",
       "      <th>A1</th>\n",
       "      <th>B1</th>\n",
       "      <th>A</th>\n",
       "      <th>B</th>\n",
       "    </tr>\n",
       "  </thead>\n",
       "  <tbody>\n",
       "    <tr>\n",
       "      <th>a</th>\n",
       "      <td>1</td>\n",
       "      <td>5</td>\n",
       "      <td>1</td>\n",
       "      <td>5</td>\n",
       "    </tr>\n",
       "    <tr>\n",
       "      <th>b</th>\n",
       "      <td>2</td>\n",
       "      <td>6</td>\n",
       "      <td>2</td>\n",
       "      <td>6</td>\n",
       "    </tr>\n",
       "    <tr>\n",
       "      <th>c</th>\n",
       "      <td>3</td>\n",
       "      <td>7</td>\n",
       "      <td>3</td>\n",
       "      <td>7</td>\n",
       "    </tr>\n",
       "    <tr>\n",
       "      <th>d</th>\n",
       "      <td>4</td>\n",
       "      <td>8</td>\n",
       "      <td>4</td>\n",
       "      <td>8</td>\n",
       "    </tr>\n",
       "  </tbody>\n",
       "</table>\n",
       "</div>"
      ],
      "text/plain": [
       "   A1  B1  A  B\n",
       "a   1   5  1  5\n",
       "b   2   6  2  6\n",
       "c   3   7  3  7\n",
       "d   4   8  4  8"
      ]
     },
     "execution_count": 111,
     "metadata": {},
     "output_type": "execute_result"
    }
   ],
   "source": [
    "f1.join(f2,lsuffix='1')"
   ]
  },
  {
   "cell_type": "code",
   "execution_count": 112,
   "id": "d32c27c3-d3f9-43d6-a6c0-434260c72e06",
   "metadata": {},
   "outputs": [
    {
     "data": {
      "text/html": [
       "<div>\n",
       "<style scoped>\n",
       "    .dataframe tbody tr th:only-of-type {\n",
       "        vertical-align: middle;\n",
       "    }\n",
       "\n",
       "    .dataframe tbody tr th {\n",
       "        vertical-align: top;\n",
       "    }\n",
       "\n",
       "    .dataframe thead th {\n",
       "        text-align: right;\n",
       "    }\n",
       "</style>\n",
       "<table border=\"1\" class=\"dataframe\">\n",
       "  <thead>\n",
       "    <tr style=\"text-align: right;\">\n",
       "      <th></th>\n",
       "      <th>A</th>\n",
       "      <th>B</th>\n",
       "      <th>A1</th>\n",
       "      <th>B1</th>\n",
       "    </tr>\n",
       "  </thead>\n",
       "  <tbody>\n",
       "    <tr>\n",
       "      <th>a</th>\n",
       "      <td>1</td>\n",
       "      <td>5</td>\n",
       "      <td>1</td>\n",
       "      <td>5</td>\n",
       "    </tr>\n",
       "    <tr>\n",
       "      <th>b</th>\n",
       "      <td>2</td>\n",
       "      <td>6</td>\n",
       "      <td>2</td>\n",
       "      <td>6</td>\n",
       "    </tr>\n",
       "    <tr>\n",
       "      <th>c</th>\n",
       "      <td>3</td>\n",
       "      <td>7</td>\n",
       "      <td>3</td>\n",
       "      <td>7</td>\n",
       "    </tr>\n",
       "    <tr>\n",
       "      <th>d</th>\n",
       "      <td>4</td>\n",
       "      <td>8</td>\n",
       "      <td>4</td>\n",
       "      <td>8</td>\n",
       "    </tr>\n",
       "  </tbody>\n",
       "</table>\n",
       "</div>"
      ],
      "text/plain": [
       "   A  B  A1  B1\n",
       "a  1  5   1   5\n",
       "b  2  6   2   6\n",
       "c  3  7   3   7\n",
       "d  4  8   4   8"
      ]
     },
     "execution_count": 112,
     "metadata": {},
     "output_type": "execute_result"
    }
   ],
   "source": [
    "f1.join(f2,rsuffix='1')"
   ]
  },
  {
   "cell_type": "code",
   "execution_count": 113,
   "id": "f2a9f669-a20c-4289-ab58-89b02d082685",
   "metadata": {},
   "outputs": [
    {
     "name": "stdout",
     "output_type": "stream",
     "text": [
      "[[-1.5   0.5 ]\n",
      " [ 1.25 -0.25]]\n"
     ]
    }
   ],
   "source": [
    "import numpy as np\n",
    "from numpy.linalg import inv   # inv = inverse function\n",
    "\n",
    "a = np.array([[1,2],\n",
    "              [5,6]])   # 2x2 matrix\n",
    "\n",
    "Q = inv(a)   # Inverse of 'a'\n",
    "print(Q)\n"
   ]
  },
  {
   "cell_type": "code",
   "execution_count": null,
   "id": "5e283fdd-599c-4a38-ad25-205561024fb5",
   "metadata": {},
   "outputs": [],
   "source": []
  }
 ],
 "metadata": {
  "kernelspec": {
   "display_name": "Python 3 (ipykernel)",
   "language": "python",
   "name": "python3"
  },
  "language_info": {
   "codemirror_mode": {
    "name": "ipython",
    "version": 3
   },
   "file_extension": ".py",
   "mimetype": "text/x-python",
   "name": "python",
   "nbconvert_exporter": "python",
   "pygments_lexer": "ipython3",
   "version": "3.13.5"
  }
 },
 "nbformat": 4,
 "nbformat_minor": 5
}
